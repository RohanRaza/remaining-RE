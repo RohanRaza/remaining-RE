{
 "cells": [
  {
   "cell_type": "code",
   "execution_count": 1,
   "id": "2ce9f9d0",
   "metadata": {},
   "outputs": [],
   "source": [
    "import pandas as pd\n",
    "import re"
   ]
  },
  {
   "cell_type": "code",
   "execution_count": 2,
   "id": "e1e84471",
   "metadata": {},
   "outputs": [],
   "source": [
    "hn = pd.read_csv(\"hacker_news.csv\")"
   ]
  },
  {
   "cell_type": "code",
   "execution_count": 3,
   "id": "8fd0bf5d",
   "metadata": {},
   "outputs": [
    {
     "data": {
      "text/html": [
       "<div>\n",
       "<style scoped>\n",
       "    .dataframe tbody tr th:only-of-type {\n",
       "        vertical-align: middle;\n",
       "    }\n",
       "\n",
       "    .dataframe tbody tr th {\n",
       "        vertical-align: top;\n",
       "    }\n",
       "\n",
       "    .dataframe thead th {\n",
       "        text-align: right;\n",
       "    }\n",
       "</style>\n",
       "<table border=\"1\" class=\"dataframe\">\n",
       "  <thead>\n",
       "    <tr style=\"text-align: right;\">\n",
       "      <th></th>\n",
       "      <th>id</th>\n",
       "      <th>title</th>\n",
       "      <th>url</th>\n",
       "      <th>num_points</th>\n",
       "      <th>num_comments</th>\n",
       "      <th>author</th>\n",
       "      <th>created_at</th>\n",
       "    </tr>\n",
       "  </thead>\n",
       "  <tbody>\n",
       "    <tr>\n",
       "      <th>0</th>\n",
       "      <td>12224879</td>\n",
       "      <td>Interactive Dynamic Video</td>\n",
       "      <td>http://www.interactivedynamicvideo.com/</td>\n",
       "      <td>386</td>\n",
       "      <td>52</td>\n",
       "      <td>ne0phyte</td>\n",
       "      <td>8/4/2016 11:52</td>\n",
       "    </tr>\n",
       "    <tr>\n",
       "      <th>1</th>\n",
       "      <td>11964716</td>\n",
       "      <td>Florida DJs May Face Felony for April Fools' W...</td>\n",
       "      <td>http://www.thewire.com/entertainment/2013/04/f...</td>\n",
       "      <td>2</td>\n",
       "      <td>1</td>\n",
       "      <td>vezycash</td>\n",
       "      <td>6/23/2016 22:20</td>\n",
       "    </tr>\n",
       "    <tr>\n",
       "      <th>2</th>\n",
       "      <td>11919867</td>\n",
       "      <td>Technology ventures: From Idea to Enterprise</td>\n",
       "      <td>https://www.amazon.com/Technology-Ventures-Ent...</td>\n",
       "      <td>3</td>\n",
       "      <td>1</td>\n",
       "      <td>hswarna</td>\n",
       "      <td>6/17/2016 0:01</td>\n",
       "    </tr>\n",
       "    <tr>\n",
       "      <th>3</th>\n",
       "      <td>10301696</td>\n",
       "      <td>Note by Note: The Making of Steinway L1037 (2007)</td>\n",
       "      <td>http://www.nytimes.com/2007/11/07/movies/07ste...</td>\n",
       "      <td>8</td>\n",
       "      <td>2</td>\n",
       "      <td>walterbell</td>\n",
       "      <td>9/30/2015 4:12</td>\n",
       "    </tr>\n",
       "    <tr>\n",
       "      <th>4</th>\n",
       "      <td>10482257</td>\n",
       "      <td>Title II kills investment? Comcast and other I...</td>\n",
       "      <td>http://arstechnica.com/business/2015/10/comcas...</td>\n",
       "      <td>53</td>\n",
       "      <td>22</td>\n",
       "      <td>Deinos</td>\n",
       "      <td>10/31/2015 9:48</td>\n",
       "    </tr>\n",
       "  </tbody>\n",
       "</table>\n",
       "</div>"
      ],
      "text/plain": [
       "         id                                              title  \\\n",
       "0  12224879                          Interactive Dynamic Video   \n",
       "1  11964716  Florida DJs May Face Felony for April Fools' W...   \n",
       "2  11919867       Technology ventures: From Idea to Enterprise   \n",
       "3  10301696  Note by Note: The Making of Steinway L1037 (2007)   \n",
       "4  10482257  Title II kills investment? Comcast and other I...   \n",
       "\n",
       "                                                 url  num_points  \\\n",
       "0            http://www.interactivedynamicvideo.com/         386   \n",
       "1  http://www.thewire.com/entertainment/2013/04/f...           2   \n",
       "2  https://www.amazon.com/Technology-Ventures-Ent...           3   \n",
       "3  http://www.nytimes.com/2007/11/07/movies/07ste...           8   \n",
       "4  http://arstechnica.com/business/2015/10/comcas...          53   \n",
       "\n",
       "   num_comments      author       created_at  \n",
       "0            52    ne0phyte   8/4/2016 11:52  \n",
       "1             1    vezycash  6/23/2016 22:20  \n",
       "2             1     hswarna   6/17/2016 0:01  \n",
       "3             2  walterbell   9/30/2015 4:12  \n",
       "4            22      Deinos  10/31/2015 9:48  "
      ]
     },
     "execution_count": 3,
     "metadata": {},
     "output_type": "execute_result"
    }
   ],
   "source": [
    "hn.head(\n",
    ")"
   ]
  },
  {
   "cell_type": "code",
   "execution_count": 4,
   "id": "48c41bda",
   "metadata": {},
   "outputs": [
    {
     "data": {
      "text/plain": [
       "Index(['id', 'title', 'url', 'num_points', 'num_comments', 'author',\n",
       "       'created_at'],\n",
       "      dtype='object')"
      ]
     },
     "execution_count": 4,
     "metadata": {},
     "output_type": "execute_result"
    }
   ],
   "source": [
    "hn.columns"
   ]
  },
  {
   "cell_type": "code",
   "execution_count": 5,
   "id": "a4b10b06",
   "metadata": {},
   "outputs": [
    {
     "data": {
      "text/plain": [
       "pandas.core.series.Series"
      ]
     },
     "execution_count": 5,
     "metadata": {},
     "output_type": "execute_result"
    }
   ],
   "source": [
    "type(hn[\"id\"])"
   ]
  },
  {
   "cell_type": "code",
   "execution_count": 6,
   "id": "885d47dc",
   "metadata": {},
   "outputs": [
    {
     "data": {
      "text/plain": [
       "pandas.core.frame.DataFrame"
      ]
     },
     "execution_count": 6,
     "metadata": {},
     "output_type": "execute_result"
    }
   ],
   "source": [
    "type(hn)"
   ]
  },
  {
   "cell_type": "code",
   "execution_count": 7,
   "id": "3e34ce81",
   "metadata": {},
   "outputs": [
    {
     "name": "stdout",
     "output_type": "stream",
     "text": [
      "<class 'pandas.core.frame.DataFrame'>\n",
      "RangeIndex: 20099 entries, 0 to 20098\n",
      "Data columns (total 7 columns):\n",
      " #   Column        Non-Null Count  Dtype \n",
      "---  ------        --------------  ----- \n",
      " 0   id            20099 non-null  int64 \n",
      " 1   title         20099 non-null  object\n",
      " 2   url           17659 non-null  object\n",
      " 3   num_points    20099 non-null  int64 \n",
      " 4   num_comments  20099 non-null  int64 \n",
      " 5   author        20099 non-null  object\n",
      " 6   created_at    20099 non-null  object\n",
      "dtypes: int64(3), object(4)\n",
      "memory usage: 1.1+ MB\n"
     ]
    }
   ],
   "source": [
    "hn.info()"
   ]
  },
  {
   "cell_type": "code",
   "execution_count": 8,
   "id": "9413bdd5",
   "metadata": {},
   "outputs": [],
   "source": [
    "id = hn[\"id\"]"
   ]
  },
  {
   "cell_type": "code",
   "execution_count": 9,
   "id": "90f41ed6",
   "metadata": {},
   "outputs": [
    {
     "data": {
      "text/plain": [
       "0                            Interactive Dynamic Video\n",
       "1    Florida DJs May Face Felony for April Fools' W...\n",
       "2         Technology ventures: From Idea to Enterprise\n",
       "3    Note by Note: The Making of Steinway L1037 (2007)\n",
       "4    Title II kills investment? Comcast and other I...\n",
       "Name: title, dtype: object"
      ]
     },
     "execution_count": 9,
     "metadata": {},
     "output_type": "execute_result"
    }
   ],
   "source": [
    "hn[\"title\"].head()"
   ]
  },
  {
   "cell_type": "code",
   "execution_count": 10,
   "id": "c0c1affd",
   "metadata": {},
   "outputs": [],
   "source": [
    "pat = \"[pP]ython\"\n"
   ]
  },
  {
   "cell_type": "code",
   "execution_count": 11,
   "id": "19ac4af9",
   "metadata": {},
   "outputs": [],
   "source": [
    "title = hn[\"title\"]"
   ]
  },
  {
   "cell_type": "code",
   "execution_count": 12,
   "id": "e775637e",
   "metadata": {},
   "outputs": [
    {
     "data": {
      "text/plain": [
       "102                    From Python to Lua: Why We Switched\n",
       "103              Ubuntu 16.04 LTS to Ship Without Python 2\n",
       "144      Create a GUI Application Using Qt and Python i...\n",
       "196      How I Solved GCHQ's Xmas Card with Python and ...\n",
       "436      Unikernel Power Comes to Java, Node.js, Go, an...\n",
       "                               ...                        \n",
       "19597    David Beazley  Python Concurrency from the Gro...\n",
       "19852      Ask HN: How to automate Python apps deployment?\n",
       "19862                            Moving Away from Python 2\n",
       "19980                        Python vs. Julia Observations\n",
       "19998    Show HN: Decorating: Animated pulsed for your ...\n",
       "Name: title, Length: 160, dtype: object"
      ]
     },
     "execution_count": 12,
     "metadata": {},
     "output_type": "execute_result"
    }
   ],
   "source": [
    "title[title.str.contains(pat)]"
   ]
  },
  {
   "cell_type": "code",
   "execution_count": 13,
   "id": "7e29d893",
   "metadata": {},
   "outputs": [],
   "source": [
    "patrn = \"[jJ]ava\""
   ]
  },
  {
   "cell_type": "code",
   "execution_count": 14,
   "id": "349a033d",
   "metadata": {},
   "outputs": [
    {
     "data": {
      "text/plain": [
       "267       Show HN: Hire JavaScript - Top JavaScript Talent\n",
       "436      Unikernel Power Comes to Java, Node.js, Go, an...\n",
       "580      Python integration for the Duktape Javascript ...\n",
       "811      Ask HN: Are there any projects or compilers wh...\n",
       "1023                          Pippo  Web framework in Java\n",
       "                               ...                        \n",
       "19548                   Another Kind of JavaScript Fatigue\n",
       "19610    Lonely programmer detective uncovers the Mozil...\n",
       "19735          Java Named Top Programming Language of 2015\n",
       "19885    Ask HN: Best Practices for CSS in a Modern Jav...\n",
       "20069    Show HN: Parse recipe ingredients using JavaSc...\n",
       "Name: title, Length: 226, dtype: object"
      ]
     },
     "execution_count": 14,
     "metadata": {},
     "output_type": "execute_result"
    }
   ],
   "source": [
    "title[title.str.contains(patrn)]"
   ]
  },
  {
   "cell_type": "code",
   "execution_count": 15,
   "id": "f44f6f67",
   "metadata": {},
   "outputs": [
    {
     "data": {
      "text/plain": [
       "Index(['id', 'title', 'url', 'num_points', 'num_comments', 'author',\n",
       "       'created_at'],\n",
       "      dtype='object')"
      ]
     },
     "execution_count": 15,
     "metadata": {},
     "output_type": "execute_result"
    }
   ],
   "source": [
    "hn.columns"
   ]
  },
  {
   "cell_type": "code",
   "execution_count": 16,
   "id": "adf06d05",
   "metadata": {},
   "outputs": [
    {
     "data": {
      "text/plain": [
       "0                  http://www.interactivedynamicvideo.com/\n",
       "1        http://www.thewire.com/entertainment/2013/04/f...\n",
       "2        https://www.amazon.com/Technology-Ventures-Ent...\n",
       "3        http://www.nytimes.com/2007/11/07/movies/07ste...\n",
       "4        http://arstechnica.com/business/2015/10/comcas...\n",
       "                               ...                        \n",
       "20094    https://puri.sm/philosophy/how-purism-avoids-i...\n",
       "20095    https://medium.com/@zreitano/the-yc-applicatio...\n",
       "20096    http://blog.darknedgy.net/technology/2016/01/0...\n",
       "20097    https://medium.com/@benjiwheeler/how-product-h...\n",
       "20098                https://github.com/jmcarp/robobrowser\n",
       "Name: url, Length: 20099, dtype: object"
      ]
     },
     "execution_count": 16,
     "metadata": {},
     "output_type": "execute_result"
    }
   ],
   "source": [
    "hn[\"url\"]"
   ]
  },
  {
   "cell_type": "code",
   "execution_count": 17,
   "id": "5019e4e2",
   "metadata": {},
   "outputs": [],
   "source": [
    "pattern = \"github\""
   ]
  },
  {
   "cell_type": "code",
   "execution_count": 18,
   "id": "3a113c8c",
   "metadata": {},
   "outputs": [],
   "source": [
    "patrn = \"[eE]mail\""
   ]
  },
  {
   "cell_type": "code",
   "execution_count": 19,
   "id": "db6f4567",
   "metadata": {},
   "outputs": [
    {
     "data": {
      "text/plain": [
       "119      Show HN: Send an email from your shell to your...\n",
       "161      Computer Specialist Who Deleted Clinton Emails...\n",
       "174                                        Email Apps Suck\n",
       "261      Emails Show Unqualified Clinton Foundation Don...\n",
       "313          Disposable emails for safe spam free shopping\n",
       "                               ...                        \n",
       "18847    Show HN: Crisp iOS keyboard for email and text...\n",
       "19303    Ask HN: Why big email providers don't sign the...\n",
       "19395    I used HTML Email when applying for jobs, here...\n",
       "19446    Tell HN: Secure email provider Riseup will run...\n",
       "19905    Gmail Will Soon Warn Users When Emails Arrive ...\n",
       "Name: title, Length: 136, dtype: object"
      ]
     },
     "execution_count": 19,
     "metadata": {},
     "output_type": "execute_result"
    }
   ],
   "source": [
    "title[title.str.contains(patrn)]"
   ]
  },
  {
   "cell_type": "code",
   "execution_count": 20,
   "id": "ccc78deb",
   "metadata": {},
   "outputs": [],
   "source": [
    "ptrn = \"[12][0-9]{3}\""
   ]
  },
  {
   "cell_type": "code",
   "execution_count": 21,
   "id": "10241f8c",
   "metadata": {},
   "outputs": [
    {
     "data": {
      "text/plain": [
       "3        Note by Note: The Making of Steinway L1037 (2007)\n",
       "34                        The reverse job applicant (2010)\n",
       "50         Ask HN: Which framework for a CRUD app in 2016?\n",
       "59            2015 in review  1 year after I quit blogging\n",
       "80       Apple Watch Scooped Up Over Half the Smartwatc...\n",
       "                               ...                        \n",
       "20032    Things I Wont Work With: Dioxygen Difluoride (...\n",
       "20049    Study: US is an oligarchy, not a democracy (2014)\n",
       "20075    Tips from a Pro: An Introduction to Microscopi...\n",
       "20081                 Usenet, what have you become? (2012)\n",
       "20082    Colma, Calif., Is a Town of 2.2 Square Miles, ...\n",
       "Name: title, Length: 1143, dtype: object"
      ]
     },
     "execution_count": 21,
     "metadata": {},
     "output_type": "execute_result"
    }
   ],
   "source": [
    "title[title.str.contains(ptrn)]"
   ]
  },
  {
   "cell_type": "code",
   "execution_count": 22,
   "id": "1d4f0fd4",
   "metadata": {},
   "outputs": [],
   "source": [
    "ptn = \"[eE]-{0,1}mail\""
   ]
  },
  {
   "cell_type": "code",
   "execution_count": 23,
   "id": "7b0a4768",
   "metadata": {},
   "outputs": [
    {
     "data": {
      "text/plain": [
       "119      Show HN: Send an email from your shell to your...\n",
       "161      Computer Specialist Who Deleted Clinton Emails...\n",
       "174                                        Email Apps Suck\n",
       "261      Emails Show Unqualified Clinton Foundation Don...\n",
       "313          Disposable emails for safe spam free shopping\n",
       "                               ...                        \n",
       "18847    Show HN: Crisp iOS keyboard for email and text...\n",
       "19303    Ask HN: Why big email providers don't sign the...\n",
       "19395    I used HTML Email when applying for jobs, here...\n",
       "19446    Tell HN: Secure email provider Riseup will run...\n",
       "19905    Gmail Will Soon Warn Users When Emails Arrive ...\n",
       "Name: title, Length: 143, dtype: object"
      ]
     },
     "execution_count": 23,
     "metadata": {},
     "output_type": "execute_result"
    }
   ],
   "source": [
    "title[title.str.contains(ptn)]"
   ]
  },
  {
   "cell_type": "code",
   "execution_count": 24,
   "id": "3efe6cd7",
   "metadata": {},
   "outputs": [],
   "source": [
    "pt = \"[hH][tT][mM][lL](?!5)\""
   ]
  },
  {
   "cell_type": "code",
   "execution_count": 25,
   "id": "46b26087",
   "metadata": {},
   "outputs": [
    {
     "data": {
      "text/plain": [
       "828      Show HN: Easiest way to build html tables in R...\n",
       "2195     MyHTML  HTML Parser on Pure C with POSIX Threa...\n",
       "2413            HTML 101  Limited Time Free 2+ hour course\n",
       "2845     Show HN: TrafficCop.html  A Mobile Friendly HT...\n",
       "2952     Inline HTML editors vs. Page Builders: the gro...\n",
       "3040       Google HTML/CSS Style Guide  Omit Optional Tags\n",
       "3211                 Introducing the Firefox debugger.html\n",
       "3602     Show HN: Simple Responsive HTML Email Template...\n",
       "3608     Introducing EdgeHTML 13, our first platform up...\n",
       "5878       Ask HN: Why does Google 404 serve invalid HTML?\n",
       "6367     Envelope  Postgres database to web app with ju...\n",
       "7156     Show HN: Simple HTML to WordPress Conversion Tool\n",
       "7342     Show HN: Teevox  Twitch Multistream Player,mad...\n",
       "8467     Swift, HTML and C++ make the list for language...\n",
       "9510     Ask HN: Want to learn HTML and CSS and also ge...\n",
       "11044    Super-Fast Numeric Input with HTML Ranges  Part 1\n",
       "11557    Ask HN: Why can't I copy and paste into HTML f...\n",
       "11805    Ask HN: Which CSS/HTML frameworks should I con...\n",
       "12393                Is CSS or HTML a programming language\n",
       "12732           Ask HN: Why is there no strict HTML 5 DTD?\n",
       "13012                   This Image Is Also an HTML Webpage\n",
       "13411          Si.gnatu.re: HTML email signature generator\n",
       "14939    Email Hell Is Over, Pain-Free HTML Emails Are ...\n",
       "15325    Ask HN: If you were to reinvent the web, how w...\n",
       "15464                      Responsive HTML Email Templates\n",
       "15486    What do you think of the typesetting on this H...\n",
       "17326             Experimental Servo browser built in HTML\n",
       "17488    Show HN: tmux2html - Render full tmux windows ...\n",
       "18541         Transform a Browser into a Basic HTML Editor\n",
       "18583    Mailgen  Generates clean, responsive HTML for ...\n",
       "18935                                HTML Form to File.txt\n",
       "19113    Show HN: LilBlog  Blog Software Written in Onl...\n",
       "19218    80 front-end job applications  nearly no one h...\n",
       "19395    I used HTML Email when applying for jobs, here...\n",
       "Name: title, dtype: object"
      ]
     },
     "execution_count": 25,
     "metadata": {},
     "output_type": "execute_result"
    }
   ],
   "source": [
    "title[title.str.contains(pt)]"
   ]
  },
  {
   "cell_type": "code",
   "execution_count": 26,
   "id": "fc696381",
   "metadata": {},
   "outputs": [],
   "source": [
    "ptn = \"[hH][tT][mM][lL](?=5)\""
   ]
  },
  {
   "cell_type": "code",
   "execution_count": 27,
   "id": "b94d210e",
   "metadata": {},
   "outputs": [
    {
     "data": {
      "text/plain": [
       "163           Show HN: HTML5 and Canvas demo written in Go\n",
       "195                 [Beta] Speedtest.net  HTML5 Speed Test\n",
       "2275       Latex to HTML5 Conversion for Scientific Papers\n",
       "2845     Show HN: TrafficCop.html  A Mobile Friendly HT...\n",
       "3153                      HTML5 by Default  Draft Proposal\n",
       "6202     Html5 based widget for an iOS app: Today exten...\n",
       "6734     Desmos Graphing Calculator  HTML5 with LaTeX e...\n",
       "7931                Bideo.js  Easy Background HTML5 Videos\n",
       "8296                           HTML5/CSS3: Advanced Topics\n",
       "11302        Ask HN: Review my Freeciv HTML5 version again\n",
       "13452    Show HN: Make your own Kanye West album cover ...\n",
       "14064    Ask HN: What's the best selling HTML5 game so ...\n",
       "14244    Show HN: HTML5 voice conference up to 5, webca...\n",
       "17013    Ask HN: Is anyone developing a HTML5/JS offlin...\n",
       "17181    Here's a C# and HTML5 powered remote desktop a...\n",
       "19684    Google display ads go 100% HTML5, Flash banned...\n",
       "Name: title, dtype: object"
      ]
     },
     "execution_count": 27,
     "metadata": {},
     "output_type": "execute_result"
    }
   ],
   "source": [
    "title[title.str.contains(ptn)]"
   ]
  },
  {
   "cell_type": "code",
   "execution_count": 28,
   "id": "926be5b4",
   "metadata": {},
   "outputs": [
    {
     "data": {
      "text/plain": [
       "email     77\n",
       "Email     57\n",
       "e-mail     5\n",
       "E-mail     2\n",
       "E-Mail     1\n",
       "EMAIL      1\n",
       "eMail      1\n",
       "dtype: int64"
      ]
     },
     "execution_count": 28,
     "metadata": {},
     "output_type": "execute_result"
    }
   ],
   "source": [
    "ptrn = \"(e-?mail)\"\n",
    "title.str.extract(ptrn,flags = re.I).value_counts()\n"
   ]
  },
  {
   "cell_type": "code",
   "execution_count": 29,
   "id": "d84c38fd",
   "metadata": {},
   "outputs": [],
   "source": [
    "ptrn =\"\\[\\w+\\]\""
   ]
  },
  {
   "cell_type": "code",
   "execution_count": 30,
   "id": "7cef1e28",
   "metadata": {},
   "outputs": [
    {
     "data": {
      "text/plain": [
       "66       Analysis of 114 propaganda sources from ISIS, ...\n",
       "100      Munich Gunman Got Weapon from the Darknet [Ger...\n",
       "159           File indexing and searching for Plan 9 [pdf]\n",
       "162      Attack on Kunduz Trauma Centre, Afghanistan  I...\n",
       "195                 [Beta] Speedtest.net  HTML5 Speed Test\n",
       "                               ...                        \n",
       "19763    TSA can now force you to go through body scann...\n",
       "19867                       Using Pony for Fintech [video]\n",
       "19947                                Swift Reversing [pdf]\n",
       "19979    WSJ/Dowjones Announce Unauthorized Access Betw...\n",
       "20089    Users Really Do Plug in USB Drives They Find [...\n",
       "Name: title, Length: 444, dtype: object"
      ]
     },
     "execution_count": 30,
     "metadata": {},
     "output_type": "execute_result"
    }
   ],
   "source": [
    "title[title.str.contains(ptrn)]"
   ]
  },
  {
   "cell_type": "code",
   "execution_count": 31,
   "id": "e1ea6894",
   "metadata": {},
   "outputs": [
    {
     "data": {
      "text/plain": [
       "195                 [Beta] Speedtest.net  HTML5 Speed Test\n",
       "398         [video] Google Self-Driving SUV Sideswipes Bus\n",
       "3136                           [CSS] Yellow Fade Technique\n",
       "5054     [React] proptypes-parser: Define React PropTyp...\n",
       "9389     [Petition] Tell Microsoft to stop making browsers\n",
       "10960      [pdf] Ninth Circuit Decision on AT&T Throttling\n",
       "11356    [video] a new tool to make your workflow as a ...\n",
       "12323                [Map] Watch as the US grows over time\n",
       "12374    [JavaScript] to promise or to callback? This i...\n",
       "13385                [video] Introducing Apple File System\n",
       "14397    [video] Boston Dynamics Atlas robot video comm...\n",
       "16747    [ask] Why you should borrow me your spare comp...\n",
       "19035    [2015] How one man earns $1M a year teaching w...\n",
       "19482       [Challenge] Sorting algorithm with constraints\n",
       "19583    [Ubuntu]if you do this sudo chmod 777 -R /etc,...\n",
       "Name: title, dtype: object"
      ]
     },
     "execution_count": 31,
     "metadata": {},
     "output_type": "execute_result"
    }
   ],
   "source": [
    "ptrn = \"^\\[\\w+\\]\"\n",
    "title[title.str.contains(ptrn)]"
   ]
  },
  {
   "cell_type": "code",
   "execution_count": 32,
   "id": "2744c1d2",
   "metadata": {},
   "outputs": [
    {
     "data": {
      "text/plain": [
       "66       Analysis of 114 propaganda sources from ISIS, ...\n",
       "100      Munich Gunman Got Weapon from the Darknet [Ger...\n",
       "159           File indexing and searching for Plan 9 [pdf]\n",
       "162      Attack on Kunduz Trauma Centre, Afghanistan  I...\n",
       "210      A plan to rescue western democracy from the ig...\n",
       "                               ...                        \n",
       "19763    TSA can now force you to go through body scann...\n",
       "19867                       Using Pony for Fintech [video]\n",
       "19947                                Swift Reversing [pdf]\n",
       "19979    WSJ/Dowjones Announce Unauthorized Access Betw...\n",
       "20089    Users Really Do Plug in USB Drives They Find [...\n",
       "Name: title, Length: 417, dtype: object"
      ]
     },
     "execution_count": 32,
     "metadata": {},
     "output_type": "execute_result"
    }
   ],
   "source": [
    "ptrn = \"\\[\\w+\\]$\"\n",
    "title[title.str.contains(ptrn)]"
   ]
  },
  {
   "cell_type": "code",
   "execution_count": 33,
   "id": "7c29c16e",
   "metadata": {},
   "outputs": [
    {
     "data": {
      "text/plain": [
       "0                                Interactive Dynamic Video\n",
       "1        Florida DJs May Face Felony for April Fools' W...\n",
       "2             Technology ventures: From Idea to Enterprise\n",
       "3        Note by Note: The Making of Steinway L1037 (2007)\n",
       "4        Title II kills investment? Comcast and other I...\n",
       "                               ...                        \n",
       "20094    How Purism Avoids Intels Active Management Tec...\n",
       "20095            YC Application Translated and Broken Down\n",
       "20096    Microkernels are slow and Elvis didn't do no d...\n",
       "20097                        How Product Hunt really works\n",
       "20098    RoboBrowser: Your friendly neighborhood web sc...\n",
       "Name: title, Length: 20099, dtype: object"
      ]
     },
     "execution_count": 33,
     "metadata": {},
     "output_type": "execute_result"
    }
   ],
   "source": [
    "hn[\"title\"]"
   ]
  },
  {
   "cell_type": "code",
   "execution_count": 34,
   "id": "621ad7b2",
   "metadata": {},
   "outputs": [],
   "source": [
    "ptrn = \"(?<!Series\\s)\\\\b[cC]\\\\b(?![\\.+])\""
   ]
  },
  {
   "cell_type": "code",
   "execution_count": 35,
   "id": "6f9c595f",
   "metadata": {},
   "outputs": [
    {
     "data": {
      "text/plain": [
       "365                       The new C standards are worth it\n",
       "521           Fuchsia: Micro kernel written in C by Google\n",
       "1307             Show HN: Yupp, yet another C preprocessor\n",
       "1326                      The C standard formalized in Coq\n",
       "1365                           GNU C Library 2.23 released\n",
       "                               ...                        \n",
       "18543                 C-style for loops removed from Swift\n",
       "18549            Show HN: An awesome C library for Windows\n",
       "18649                 Python vs. C/C++ in embedded systems\n",
       "19151                      Ask HN: How to learn C in 2016?\n",
       "19933    Lightweight C library to parse NMEA 0183 sente...\n",
       "Name: title, Length: 102, dtype: object"
      ]
     },
     "execution_count": 35,
     "metadata": {},
     "output_type": "execute_result"
    }
   ],
   "source": [
    "title[title.str.contains(ptrn)]"
   ]
  },
  {
   "cell_type": "code",
   "execution_count": 36,
   "id": "76f03ba0",
   "metadata": {},
   "outputs": [],
   "source": [
    "ptn = r\"[cC](?=[++])\""
   ]
  },
  {
   "cell_type": "code",
   "execution_count": 37,
   "id": "18100f99",
   "metadata": {},
   "outputs": [
    {
     "data": {
      "text/plain": [
       "13                  Custom Deleters for C++ Smart Pointers\n",
       "220                         Lisp, C++: Sadness in my heart\n",
       "508      BDE 3.0 (Bloomberg's core C++ library): Open S...\n",
       "1282     A lightweight C++ signals and slots implementa...\n",
       "1500                         Fun with Lambdas: C++14 Style\n",
       "                               ...                        \n",
       "19510                                    Futures for C++11\n",
       "19620             Efficient parameter pack indexing in C++\n",
       "19667                         Ill-Advised C++ Rant, Part 2\n",
       "19799    Introducing a new, advanced Visual C++ code op...\n",
       "19829    Ferret: Compiling a Subset of Clojure to ISO C...\n",
       "Name: title, Length: 86, dtype: object"
      ]
     },
     "execution_count": 37,
     "metadata": {},
     "output_type": "execute_result"
    }
   ],
   "source": [
    "title[title.str.contains(ptn)]"
   ]
  },
  {
   "cell_type": "code",
   "execution_count": 38,
   "id": "e7c48a11",
   "metadata": {},
   "outputs": [],
   "source": [
    "pn = r\"[jJ]ava(?=[sS]cript)\""
   ]
  },
  {
   "cell_type": "code",
   "execution_count": 39,
   "id": "d8d7b0ec",
   "metadata": {},
   "outputs": [
    {
     "data": {
      "text/plain": [
       "267       Show HN: Hire JavaScript - Top JavaScript Talent\n",
       "580      Python integration for the Duktape Javascript ...\n",
       "811      Ask HN: Are there any projects or compilers wh...\n",
       "1046     If you write JavaScript tools or libraries, bu...\n",
       "1093     Rollup.js: A next-generation JavaScript module...\n",
       "                               ...                        \n",
       "19349      Fotorama, a responsive JavaScript photo gallery\n",
       "19548                   Another Kind of JavaScript Fatigue\n",
       "19610    Lonely programmer detective uncovers the Mozil...\n",
       "19885    Ask HN: Best Practices for CSS in a Modern Jav...\n",
       "20069    Show HN: Parse recipe ingredients using JavaSc...\n",
       "Name: title, Length: 170, dtype: object"
      ]
     },
     "execution_count": 39,
     "metadata": {},
     "output_type": "execute_result"
    }
   ],
   "source": [
    "title[title.str.contains(pn)]"
   ]
  },
  {
   "cell_type": "code",
   "execution_count": 40,
   "id": "e9a99de9",
   "metadata": {},
   "outputs": [],
   "source": [
    "pn = r\"([jJ]ava(?=[sS]cript))\""
   ]
  },
  {
   "cell_type": "code",
   "execution_count": 41,
   "id": "de28b78f",
   "metadata": {},
   "outputs": [
    {
     "data": {
      "text/plain": [
       "Java    170\n",
       "dtype: int64"
      ]
     },
     "execution_count": 41,
     "metadata": {},
     "output_type": "execute_result"
    }
   ],
   "source": [
    "title.str.extract(pn).value_counts()"
   ]
  },
  {
   "cell_type": "markdown",
   "id": "176a5564",
   "metadata": {},
   "source": [
    "#### mysql, PostgreSQL, SQL"
   ]
  },
  {
   "cell_type": "code",
   "execution_count": 75,
   "id": "3b2cb16c",
   "metadata": {},
   "outputs": [
    {
     "data": {
      "text/plain": [
       "0      1 \n",
       "MySQL  My    12\n",
       "mySql  my     1\n",
       "dtype: int64"
      ]
     },
     "execution_count": 75,
     "metadata": {},
     "output_type": "execute_result"
    }
   ],
   "source": [
    "ptn = \"((my)?sql)\"\n",
    "title.str.extract(ptn, flags = re.I).value_counts()"
   ]
  },
  {
   "cell_type": "code",
   "execution_count": null,
   "id": "0d237b0a",
   "metadata": {},
   "outputs": [],
   "source": [
    "ptn = r\"\\b(\\w+)\\s\\1\\b\""
   ]
  },
  {
   "cell_type": "code",
   "execution_count": 44,
   "id": "a81a605e",
   "metadata": {},
   "outputs": [
    {
     "name": "stderr",
     "output_type": "stream",
     "text": [
      "C:\\Users\\92344\\anaconda3\\lib\\site-packages\\pandas\\core\\strings\\accessor.py:101: UserWarning: This pattern has match groups. To actually get the groups, use str.extract.\n",
      "  return func(self, *args, **kwargs)\n"
     ]
    },
    {
     "data": {
      "text/plain": [
       "3102                  Silicon Valley Has a Problem Problem\n",
       "3176                Wire Wire: A West African Cyber Threat\n",
       "3178                         Flexbox Cheatsheet Cheatsheet\n",
       "4797                            The Mindset Mindset (2015)\n",
       "7276     Valentine's Day Special: Bye Bye Tinder, Flirt...\n",
       "10371    Mcdonalds copying cyriak  cows cows cows in th...\n",
       "11575                                    Bang Bang Control\n",
       "11901          Cordless Telephones: Bye Bye Privacy (1991)\n",
       "12697          Solving the the Monty-Hall-Problem in Swift\n",
       "15049    Bye Bye Webrtc2SIP: WebRTC with Asterisk and A...\n",
       "15839          Intellij-Rust Rust Plugin for IntelliJ IDEA\n",
       "Name: title, dtype: object"
      ]
     },
     "execution_count": 44,
     "metadata": {},
     "output_type": "execute_result"
    }
   ],
   "source": [
    "title[title.str.contains(ptn)]"
   ]
  },
  {
   "cell_type": "code",
   "execution_count": 45,
   "id": "e7bac5c2",
   "metadata": {},
   "outputs": [],
   "source": [
    "url = hn[\"url\"]"
   ]
  },
  {
   "cell_type": "code",
   "execution_count": 46,
   "id": "21b0fe6d",
   "metadata": {},
   "outputs": [
    {
     "data": {
      "text/plain": [
       "0                  http://www.interactivedynamicvideo.com/\n",
       "1        http://www.thewire.com/entertainment/2013/04/f...\n",
       "2        https://www.amazon.com/Technology-Ventures-Ent...\n",
       "3        http://www.nytimes.com/2007/11/07/movies/07ste...\n",
       "4        http://arstechnica.com/business/2015/10/comcas...\n",
       "                               ...                        \n",
       "20094    https://puri.sm/philosophy/how-purism-avoids-i...\n",
       "20095    https://medium.com/@zreitano/the-yc-applicatio...\n",
       "20096    http://blog.darknedgy.net/technology/2016/01/0...\n",
       "20097    https://medium.com/@benjiwheeler/how-product-h...\n",
       "20098                https://github.com/jmcarp/robobrowser\n",
       "Name: url, Length: 20099, dtype: object"
      ]
     },
     "execution_count": 46,
     "metadata": {},
     "output_type": "execute_result"
    }
   ],
   "source": [
    "url"
   ]
  },
  {
   "cell_type": "code",
   "execution_count": 47,
   "id": "903c32c1",
   "metadata": {},
   "outputs": [
    {
     "data": {
      "text/html": [
       "<div>\n",
       "<style scoped>\n",
       "    .dataframe tbody tr th:only-of-type {\n",
       "        vertical-align: middle;\n",
       "    }\n",
       "\n",
       "    .dataframe tbody tr th {\n",
       "        vertical-align: top;\n",
       "    }\n",
       "\n",
       "    .dataframe thead th {\n",
       "        text-align: right;\n",
       "    }\n",
       "</style>\n",
       "<table border=\"1\" class=\"dataframe\">\n",
       "  <thead>\n",
       "    <tr style=\"text-align: right;\">\n",
       "      <th></th>\n",
       "      <th>0</th>\n",
       "    </tr>\n",
       "  </thead>\n",
       "  <tbody>\n",
       "    <tr>\n",
       "      <th>0</th>\n",
       "      <td>http</td>\n",
       "    </tr>\n",
       "    <tr>\n",
       "      <th>1</th>\n",
       "      <td>http</td>\n",
       "    </tr>\n",
       "    <tr>\n",
       "      <th>2</th>\n",
       "      <td>https</td>\n",
       "    </tr>\n",
       "    <tr>\n",
       "      <th>3</th>\n",
       "      <td>http</td>\n",
       "    </tr>\n",
       "    <tr>\n",
       "      <th>4</th>\n",
       "      <td>http</td>\n",
       "    </tr>\n",
       "    <tr>\n",
       "      <th>...</th>\n",
       "      <td>...</td>\n",
       "    </tr>\n",
       "    <tr>\n",
       "      <th>20094</th>\n",
       "      <td>https</td>\n",
       "    </tr>\n",
       "    <tr>\n",
       "      <th>20095</th>\n",
       "      <td>https</td>\n",
       "    </tr>\n",
       "    <tr>\n",
       "      <th>20096</th>\n",
       "      <td>http</td>\n",
       "    </tr>\n",
       "    <tr>\n",
       "      <th>20097</th>\n",
       "      <td>https</td>\n",
       "    </tr>\n",
       "    <tr>\n",
       "      <th>20098</th>\n",
       "      <td>https</td>\n",
       "    </tr>\n",
       "  </tbody>\n",
       "</table>\n",
       "<p>20099 rows × 1 columns</p>\n",
       "</div>"
      ],
      "text/plain": [
       "           0\n",
       "0       http\n",
       "1       http\n",
       "2      https\n",
       "3       http\n",
       "4       http\n",
       "...      ...\n",
       "20094  https\n",
       "20095  https\n",
       "20096   http\n",
       "20097  https\n",
       "20098  https\n",
       "\n",
       "[20099 rows x 1 columns]"
      ]
     },
     "execution_count": 47,
     "metadata": {},
     "output_type": "execute_result"
    }
   ],
   "source": [
    "ptrn = r\"\\b(https?)\\b\"\n",
    "url.str.extract(ptrn)"
   ]
  },
  {
   "cell_type": "code",
   "execution_count": 48,
   "id": "2440644a",
   "metadata": {},
   "outputs": [
    {
     "data": {
      "text/html": [
       "<div>\n",
       "<style scoped>\n",
       "    .dataframe tbody tr th:only-of-type {\n",
       "        vertical-align: middle;\n",
       "    }\n",
       "\n",
       "    .dataframe tbody tr th {\n",
       "        vertical-align: top;\n",
       "    }\n",
       "\n",
       "    .dataframe thead th {\n",
       "        text-align: right;\n",
       "    }\n",
       "</style>\n",
       "<table border=\"1\" class=\"dataframe\">\n",
       "  <thead>\n",
       "    <tr style=\"text-align: right;\">\n",
       "      <th></th>\n",
       "      <th>0</th>\n",
       "    </tr>\n",
       "  </thead>\n",
       "  <tbody>\n",
       "    <tr>\n",
       "      <th>0</th>\n",
       "      <td>://www</td>\n",
       "    </tr>\n",
       "    <tr>\n",
       "      <th>1</th>\n",
       "      <td>://www</td>\n",
       "    </tr>\n",
       "    <tr>\n",
       "      <th>2</th>\n",
       "      <td>://www</td>\n",
       "    </tr>\n",
       "    <tr>\n",
       "      <th>3</th>\n",
       "      <td>://www</td>\n",
       "    </tr>\n",
       "    <tr>\n",
       "      <th>4</th>\n",
       "      <td>://arstechnica</td>\n",
       "    </tr>\n",
       "    <tr>\n",
       "      <th>...</th>\n",
       "      <td>...</td>\n",
       "    </tr>\n",
       "    <tr>\n",
       "      <th>20094</th>\n",
       "      <td>://puri</td>\n",
       "    </tr>\n",
       "    <tr>\n",
       "      <th>20095</th>\n",
       "      <td>://medium</td>\n",
       "    </tr>\n",
       "    <tr>\n",
       "      <th>20096</th>\n",
       "      <td>://blog</td>\n",
       "    </tr>\n",
       "    <tr>\n",
       "      <th>20097</th>\n",
       "      <td>://medium</td>\n",
       "    </tr>\n",
       "    <tr>\n",
       "      <th>20098</th>\n",
       "      <td>://github</td>\n",
       "    </tr>\n",
       "  </tbody>\n",
       "</table>\n",
       "<p>20099 rows × 1 columns</p>\n",
       "</div>"
      ],
      "text/plain": [
       "                    0\n",
       "0              ://www\n",
       "1              ://www\n",
       "2              ://www\n",
       "3              ://www\n",
       "4      ://arstechnica\n",
       "...               ...\n",
       "20094         ://puri\n",
       "20095       ://medium\n",
       "20096         ://blog\n",
       "20097       ://medium\n",
       "20098       ://github\n",
       "\n",
       "[20099 rows x 1 columns]"
      ]
     },
     "execution_count": 48,
     "metadata": {},
     "output_type": "execute_result"
    }
   ],
   "source": [
    "ptn = r\"https?\\b(://\\w+)\\b\"\n",
    "url.str.extract(ptn)"
   ]
  },
  {
   "cell_type": "code",
   "execution_count": 49,
   "id": "c276f710",
   "metadata": {},
   "outputs": [
    {
     "data": {
      "text/html": [
       "<div>\n",
       "<style scoped>\n",
       "    .dataframe tbody tr th:only-of-type {\n",
       "        vertical-align: middle;\n",
       "    }\n",
       "\n",
       "    .dataframe tbody tr th {\n",
       "        vertical-align: top;\n",
       "    }\n",
       "\n",
       "    .dataframe thead th {\n",
       "        text-align: right;\n",
       "    }\n",
       "</style>\n",
       "<table border=\"1\" class=\"dataframe\">\n",
       "  <thead>\n",
       "    <tr style=\"text-align: right;\">\n",
       "      <th></th>\n",
       "      <th>0</th>\n",
       "    </tr>\n",
       "  </thead>\n",
       "  <tbody>\n",
       "    <tr>\n",
       "      <th>0</th>\n",
       "      <td>www.interactivedynamicvideo.com</td>\n",
       "    </tr>\n",
       "    <tr>\n",
       "      <th>1</th>\n",
       "      <td>www.thewire.com</td>\n",
       "    </tr>\n",
       "    <tr>\n",
       "      <th>2</th>\n",
       "      <td>www.amazon.com</td>\n",
       "    </tr>\n",
       "    <tr>\n",
       "      <th>3</th>\n",
       "      <td>www.nytimes.com</td>\n",
       "    </tr>\n",
       "    <tr>\n",
       "      <th>4</th>\n",
       "      <td>arstechnica.com</td>\n",
       "    </tr>\n",
       "    <tr>\n",
       "      <th>...</th>\n",
       "      <td>...</td>\n",
       "    </tr>\n",
       "    <tr>\n",
       "      <th>20094</th>\n",
       "      <td>puri.sm</td>\n",
       "    </tr>\n",
       "    <tr>\n",
       "      <th>20095</th>\n",
       "      <td>medium.com</td>\n",
       "    </tr>\n",
       "    <tr>\n",
       "      <th>20096</th>\n",
       "      <td>blog.darknedgy.net</td>\n",
       "    </tr>\n",
       "    <tr>\n",
       "      <th>20097</th>\n",
       "      <td>medium.com</td>\n",
       "    </tr>\n",
       "    <tr>\n",
       "      <th>20098</th>\n",
       "      <td>github.com</td>\n",
       "    </tr>\n",
       "  </tbody>\n",
       "</table>\n",
       "<p>20099 rows × 1 columns</p>\n",
       "</div>"
      ],
      "text/plain": [
       "                                     0\n",
       "0      www.interactivedynamicvideo.com\n",
       "1                      www.thewire.com\n",
       "2                       www.amazon.com\n",
       "3                      www.nytimes.com\n",
       "4                      arstechnica.com\n",
       "...                                ...\n",
       "20094                          puri.sm\n",
       "20095                       medium.com\n",
       "20096               blog.darknedgy.net\n",
       "20097                       medium.com\n",
       "20098                       github.com\n",
       "\n",
       "[20099 rows x 1 columns]"
      ]
     },
     "execution_count": 49,
     "metadata": {},
     "output_type": "execute_result"
    }
   ],
   "source": [
    "ptn = r\"https?://\\b([\\w.]+)\\b\"\n",
    "url.str.extract(ptn)"
   ]
  },
  {
   "cell_type": "code",
   "execution_count": 50,
   "id": "ab2f9d19",
   "metadata": {},
   "outputs": [
    {
     "data": {
      "text/html": [
       "<div>\n",
       "<style scoped>\n",
       "    .dataframe tbody tr th:only-of-type {\n",
       "        vertical-align: middle;\n",
       "    }\n",
       "\n",
       "    .dataframe tbody tr th {\n",
       "        vertical-align: top;\n",
       "    }\n",
       "\n",
       "    .dataframe thead th {\n",
       "        text-align: right;\n",
       "    }\n",
       "</style>\n",
       "<table border=\"1\" class=\"dataframe\">\n",
       "  <thead>\n",
       "    <tr style=\"text-align: right;\">\n",
       "      <th></th>\n",
       "      <th>0</th>\n",
       "    </tr>\n",
       "  </thead>\n",
       "  <tbody>\n",
       "    <tr>\n",
       "      <th>0</th>\n",
       "      <td>com</td>\n",
       "    </tr>\n",
       "    <tr>\n",
       "      <th>1</th>\n",
       "      <td>/entertainment/2013/04/florida</td>\n",
       "    </tr>\n",
       "    <tr>\n",
       "      <th>2</th>\n",
       "      <td>/Technology</td>\n",
       "    </tr>\n",
       "    <tr>\n",
       "      <th>3</th>\n",
       "      <td>/2007/11/07/movies/07stein.html?_r</td>\n",
       "    </tr>\n",
       "    <tr>\n",
       "      <th>4</th>\n",
       "      <td>/business/2015/10/comcast</td>\n",
       "    </tr>\n",
       "    <tr>\n",
       "      <th>...</th>\n",
       "      <td>...</td>\n",
       "    </tr>\n",
       "    <tr>\n",
       "      <th>20094</th>\n",
       "      <td>/philosophy/how</td>\n",
       "    </tr>\n",
       "    <tr>\n",
       "      <th>20095</th>\n",
       "      <td>com</td>\n",
       "    </tr>\n",
       "    <tr>\n",
       "      <th>20096</th>\n",
       "      <td>/technology/2016/01/01/0</td>\n",
       "    </tr>\n",
       "    <tr>\n",
       "      <th>20097</th>\n",
       "      <td>com</td>\n",
       "    </tr>\n",
       "    <tr>\n",
       "      <th>20098</th>\n",
       "      <td>/jmcarp/robobrowser</td>\n",
       "    </tr>\n",
       "  </tbody>\n",
       "</table>\n",
       "<p>20099 rows × 1 columns</p>\n",
       "</div>"
      ],
      "text/plain": [
       "                                        0\n",
       "0                                     com\n",
       "1          /entertainment/2013/04/florida\n",
       "2                             /Technology\n",
       "3      /2007/11/07/movies/07stein.html?_r\n",
       "4               /business/2015/10/comcast\n",
       "...                                   ...\n",
       "20094                     /philosophy/how\n",
       "20095                                 com\n",
       "20096            /technology/2016/01/01/0\n",
       "20097                                 com\n",
       "20098                 /jmcarp/robobrowser\n",
       "\n",
       "[20099 rows x 1 columns]"
      ]
     },
     "execution_count": 50,
     "metadata": {},
     "output_type": "execute_result"
    }
   ],
   "source": [
    "ptn = r\"https?://[\\w.]+\\b([/?\\w.]+)\\b\"\n",
    "url.str.extract(ptn)"
   ]
  },
  {
   "cell_type": "code",
   "execution_count": 51,
   "id": "ef01da10",
   "metadata": {},
   "outputs": [
    {
     "data": {
      "text/html": [
       "<div>\n",
       "<style scoped>\n",
       "    .dataframe tbody tr th:only-of-type {\n",
       "        vertical-align: middle;\n",
       "    }\n",
       "\n",
       "    .dataframe tbody tr th {\n",
       "        vertical-align: top;\n",
       "    }\n",
       "\n",
       "    .dataframe thead th {\n",
       "        text-align: right;\n",
       "    }\n",
       "</style>\n",
       "<table border=\"1\" class=\"dataframe\">\n",
       "  <thead>\n",
       "    <tr style=\"text-align: right;\">\n",
       "      <th></th>\n",
       "      <th>0</th>\n",
       "      <th>1</th>\n",
       "      <th>2</th>\n",
       "    </tr>\n",
       "  </thead>\n",
       "  <tbody>\n",
       "    <tr>\n",
       "      <th>0</th>\n",
       "      <td>http://</td>\n",
       "      <td>www.interactivedynamicvideo.</td>\n",
       "      <td>com</td>\n",
       "    </tr>\n",
       "    <tr>\n",
       "      <th>1</th>\n",
       "      <td>http://</td>\n",
       "      <td>www.thewire.com</td>\n",
       "      <td>/entertainment/2013/04/florida</td>\n",
       "    </tr>\n",
       "    <tr>\n",
       "      <th>2</th>\n",
       "      <td>https://</td>\n",
       "      <td>www.amazon.com</td>\n",
       "      <td>/Technology</td>\n",
       "    </tr>\n",
       "    <tr>\n",
       "      <th>3</th>\n",
       "      <td>http://</td>\n",
       "      <td>www.nytimes.com</td>\n",
       "      <td>/2007/11/07/movies/07stein.html?_r</td>\n",
       "    </tr>\n",
       "    <tr>\n",
       "      <th>4</th>\n",
       "      <td>http://</td>\n",
       "      <td>arstechnica.com</td>\n",
       "      <td>/business/2015/10/comcast</td>\n",
       "    </tr>\n",
       "    <tr>\n",
       "      <th>...</th>\n",
       "      <td>...</td>\n",
       "      <td>...</td>\n",
       "      <td>...</td>\n",
       "    </tr>\n",
       "    <tr>\n",
       "      <th>20094</th>\n",
       "      <td>https://</td>\n",
       "      <td>puri.sm</td>\n",
       "      <td>/philosophy/how</td>\n",
       "    </tr>\n",
       "    <tr>\n",
       "      <th>20095</th>\n",
       "      <td>https://</td>\n",
       "      <td>medium.</td>\n",
       "      <td>com</td>\n",
       "    </tr>\n",
       "    <tr>\n",
       "      <th>20096</th>\n",
       "      <td>http://</td>\n",
       "      <td>blog.darknedgy.net</td>\n",
       "      <td>/technology/2016/01/01/0</td>\n",
       "    </tr>\n",
       "    <tr>\n",
       "      <th>20097</th>\n",
       "      <td>https://</td>\n",
       "      <td>medium.</td>\n",
       "      <td>com</td>\n",
       "    </tr>\n",
       "    <tr>\n",
       "      <th>20098</th>\n",
       "      <td>https://</td>\n",
       "      <td>github.com</td>\n",
       "      <td>/jmcarp/robobrowser</td>\n",
       "    </tr>\n",
       "  </tbody>\n",
       "</table>\n",
       "<p>20099 rows × 3 columns</p>\n",
       "</div>"
      ],
      "text/plain": [
       "              0                             1  \\\n",
       "0       http://  www.interactivedynamicvideo.   \n",
       "1       http://               www.thewire.com   \n",
       "2      https://                www.amazon.com   \n",
       "3       http://               www.nytimes.com   \n",
       "4       http://               arstechnica.com   \n",
       "...         ...                           ...   \n",
       "20094  https://                       puri.sm   \n",
       "20095  https://                       medium.   \n",
       "20096   http://            blog.darknedgy.net   \n",
       "20097  https://                       medium.   \n",
       "20098  https://                    github.com   \n",
       "\n",
       "                                        2  \n",
       "0                                     com  \n",
       "1          /entertainment/2013/04/florida  \n",
       "2                             /Technology  \n",
       "3      /2007/11/07/movies/07stein.html?_r  \n",
       "4               /business/2015/10/comcast  \n",
       "...                                   ...  \n",
       "20094                     /philosophy/how  \n",
       "20095                                 com  \n",
       "20096            /technology/2016/01/01/0  \n",
       "20097                                 com  \n",
       "20098                 /jmcarp/robobrowser  \n",
       "\n",
       "[20099 rows x 3 columns]"
      ]
     },
     "execution_count": 51,
     "metadata": {},
     "output_type": "execute_result"
    }
   ],
   "source": [
    "ptn = r\"(https?://)([\\w.]+)\\b([/?\\w.]+)\\b\"\n",
    "url.str.extract(ptn)"
   ]
  },
  {
   "cell_type": "code",
   "execution_count": 52,
   "id": "e0ae191d",
   "metadata": {},
   "outputs": [
    {
     "data": {
      "text/html": [
       "<div>\n",
       "<style scoped>\n",
       "    .dataframe tbody tr th:only-of-type {\n",
       "        vertical-align: middle;\n",
       "    }\n",
       "\n",
       "    .dataframe tbody tr th {\n",
       "        vertical-align: top;\n",
       "    }\n",
       "\n",
       "    .dataframe thead th {\n",
       "        text-align: right;\n",
       "    }\n",
       "</style>\n",
       "<table border=\"1\" class=\"dataframe\">\n",
       "  <thead>\n",
       "    <tr style=\"text-align: right;\">\n",
       "      <th></th>\n",
       "      <th>0</th>\n",
       "    </tr>\n",
       "  </thead>\n",
       "  <tbody>\n",
       "    <tr>\n",
       "      <th>0</th>\n",
       "      <td>http://www.interactivedynamicvideo.com/</td>\n",
       "    </tr>\n",
       "    <tr>\n",
       "      <th>1</th>\n",
       "      <td>http://www.thewire.com/entertainment/2013/04/f...</td>\n",
       "    </tr>\n",
       "    <tr>\n",
       "      <th>2</th>\n",
       "      <td>https://www.amazon.com/Technology</td>\n",
       "    </tr>\n",
       "    <tr>\n",
       "      <th>3</th>\n",
       "      <td>http://www.nytimes.com/2007/11/07/movies/07ste...</td>\n",
       "    </tr>\n",
       "    <tr>\n",
       "      <th>4</th>\n",
       "      <td>http://arstechnica.com/business/2015/10/comcast</td>\n",
       "    </tr>\n",
       "    <tr>\n",
       "      <th>...</th>\n",
       "      <td>...</td>\n",
       "    </tr>\n",
       "    <tr>\n",
       "      <th>20094</th>\n",
       "      <td>https://puri.sm/philosophy/how</td>\n",
       "    </tr>\n",
       "    <tr>\n",
       "      <th>20095</th>\n",
       "      <td>https://medium.com/</td>\n",
       "    </tr>\n",
       "    <tr>\n",
       "      <th>20096</th>\n",
       "      <td>http://blog.darknedgy.net/technology/2016/01/0...</td>\n",
       "    </tr>\n",
       "    <tr>\n",
       "      <th>20097</th>\n",
       "      <td>https://medium.com/</td>\n",
       "    </tr>\n",
       "    <tr>\n",
       "      <th>20098</th>\n",
       "      <td>https://github.com/jmcarp/robobrowser</td>\n",
       "    </tr>\n",
       "  </tbody>\n",
       "</table>\n",
       "<p>20099 rows × 1 columns</p>\n",
       "</div>"
      ],
      "text/plain": [
       "                                                       0\n",
       "0                http://www.interactivedynamicvideo.com/\n",
       "1      http://www.thewire.com/entertainment/2013/04/f...\n",
       "2                      https://www.amazon.com/Technology\n",
       "3      http://www.nytimes.com/2007/11/07/movies/07ste...\n",
       "4        http://arstechnica.com/business/2015/10/comcast\n",
       "...                                                  ...\n",
       "20094                     https://puri.sm/philosophy/how\n",
       "20095                                https://medium.com/\n",
       "20096  http://blog.darknedgy.net/technology/2016/01/0...\n",
       "20097                                https://medium.com/\n",
       "20098              https://github.com/jmcarp/robobrowser\n",
       "\n",
       "[20099 rows x 1 columns]"
      ]
     },
     "execution_count": 52,
     "metadata": {},
     "output_type": "execute_result"
    }
   ],
   "source": [
    "ptn = r\"(https?://[\\w.]+[/?\\w.]+)\"\n",
    "url.str.extract(ptn)"
   ]
  },
  {
   "cell_type": "code",
   "execution_count": 53,
   "id": "3e385e51",
   "metadata": {},
   "outputs": [
    {
     "data": {
      "text/html": [
       "<div>\n",
       "<style scoped>\n",
       "    .dataframe tbody tr th:only-of-type {\n",
       "        vertical-align: middle;\n",
       "    }\n",
       "\n",
       "    .dataframe tbody tr th {\n",
       "        vertical-align: top;\n",
       "    }\n",
       "\n",
       "    .dataframe thead th {\n",
       "        text-align: right;\n",
       "    }\n",
       "</style>\n",
       "<table border=\"1\" class=\"dataframe\">\n",
       "  <thead>\n",
       "    <tr style=\"text-align: right;\">\n",
       "      <th></th>\n",
       "      <th>Protocol</th>\n",
       "      <th>Domain</th>\n",
       "      <th>Path</th>\n",
       "    </tr>\n",
       "  </thead>\n",
       "  <tbody>\n",
       "    <tr>\n",
       "      <th>0</th>\n",
       "      <td>http://</td>\n",
       "      <td>www.interactivedynamicvideo.com</td>\n",
       "      <td>/</td>\n",
       "    </tr>\n",
       "    <tr>\n",
       "      <th>1</th>\n",
       "      <td>http://</td>\n",
       "      <td>www.thewire.com</td>\n",
       "      <td>/entertainment/2013/04/florida</td>\n",
       "    </tr>\n",
       "    <tr>\n",
       "      <th>2</th>\n",
       "      <td>https://</td>\n",
       "      <td>www.amazon.com</td>\n",
       "      <td>/Technology</td>\n",
       "    </tr>\n",
       "    <tr>\n",
       "      <th>3</th>\n",
       "      <td>http://</td>\n",
       "      <td>www.nytimes.com</td>\n",
       "      <td>/2007/11/07/movies/07stein.html?_r</td>\n",
       "    </tr>\n",
       "    <tr>\n",
       "      <th>4</th>\n",
       "      <td>http://</td>\n",
       "      <td>arstechnica.com</td>\n",
       "      <td>/business/2015/10/comcast</td>\n",
       "    </tr>\n",
       "    <tr>\n",
       "      <th>...</th>\n",
       "      <td>...</td>\n",
       "      <td>...</td>\n",
       "      <td>...</td>\n",
       "    </tr>\n",
       "    <tr>\n",
       "      <th>20094</th>\n",
       "      <td>https://</td>\n",
       "      <td>puri.sm</td>\n",
       "      <td>/philosophy/how</td>\n",
       "    </tr>\n",
       "    <tr>\n",
       "      <th>20095</th>\n",
       "      <td>https://</td>\n",
       "      <td>medium.com</td>\n",
       "      <td>/</td>\n",
       "    </tr>\n",
       "    <tr>\n",
       "      <th>20096</th>\n",
       "      <td>http://</td>\n",
       "      <td>blog.darknedgy.net</td>\n",
       "      <td>/technology/2016/01/01/0/</td>\n",
       "    </tr>\n",
       "    <tr>\n",
       "      <th>20097</th>\n",
       "      <td>https://</td>\n",
       "      <td>medium.com</td>\n",
       "      <td>/</td>\n",
       "    </tr>\n",
       "    <tr>\n",
       "      <th>20098</th>\n",
       "      <td>https://</td>\n",
       "      <td>github.com</td>\n",
       "      <td>/jmcarp/robobrowser</td>\n",
       "    </tr>\n",
       "  </tbody>\n",
       "</table>\n",
       "<p>20099 rows × 3 columns</p>\n",
       "</div>"
      ],
      "text/plain": [
       "       Protocol                           Domain  \\\n",
       "0       http://  www.interactivedynamicvideo.com   \n",
       "1       http://                  www.thewire.com   \n",
       "2      https://                   www.amazon.com   \n",
       "3       http://                  www.nytimes.com   \n",
       "4       http://                  arstechnica.com   \n",
       "...         ...                              ...   \n",
       "20094  https://                          puri.sm   \n",
       "20095  https://                       medium.com   \n",
       "20096   http://               blog.darknedgy.net   \n",
       "20097  https://                       medium.com   \n",
       "20098  https://                       github.com   \n",
       "\n",
       "                                     Path  \n",
       "0                                       /  \n",
       "1          /entertainment/2013/04/florida  \n",
       "2                             /Technology  \n",
       "3      /2007/11/07/movies/07stein.html?_r  \n",
       "4               /business/2015/10/comcast  \n",
       "...                                   ...  \n",
       "20094                     /philosophy/how  \n",
       "20095                                   /  \n",
       "20096           /technology/2016/01/01/0/  \n",
       "20097                                   /  \n",
       "20098                 /jmcarp/robobrowser  \n",
       "\n",
       "[20099 rows x 3 columns]"
      ]
     },
     "execution_count": 53,
     "metadata": {},
     "output_type": "execute_result"
    }
   ],
   "source": [
    "ptn = r\"(?P<Protocol>https?://)(?P<Domain>[\\w.]+)(?P<Path>[/?\\w.]+)\"\n",
    "url.str.extract(ptn)"
   ]
  },
  {
   "cell_type": "markdown",
   "id": "f256bf86",
   "metadata": {},
   "source": [
    "#### `email` ,`Email`, `e Mail`, `e mail`, `E-mail`, `e-mail`, `eMail`, `E-Mail`, `EMAIL`, `emails`, `Emails`, `E-MailS`"
   ]
  },
  {
   "cell_type": "code",
   "execution_count": 54,
   "id": "320f3951",
   "metadata": {},
   "outputs": [
    {
     "data": {
      "text/plain": [
       "email      57\n",
       "Email      42\n",
       "emails     18\n",
       "Emails     15\n",
       "e Mail      5\n",
       "e-mail      5\n",
       "e mail      4\n",
       "E-mails     2\n",
       "E-Mail      1\n",
       "EMAIL       1\n",
       "eMail       1\n",
       "dtype: int64"
      ]
     },
     "execution_count": 54,
     "metadata": {},
     "output_type": "execute_result"
    }
   ],
   "source": [
    "ptrn = r\"(e[\\s-]?mails?)\"\n",
    "title.str.extract(ptrn,flags= re.I).value_counts()"
   ]
  },
  {
   "cell_type": "code",
   "execution_count": null,
   "id": "ffaab4c0",
   "metadata": {},
   "outputs": [],
   "source": []
  }
 ],
 "metadata": {
  "kernelspec": {
   "display_name": "Python 3",
   "language": "python",
   "name": "python3"
  },
  "language_info": {
   "codemirror_mode": {
    "name": "ipython",
    "version": 3
   },
   "file_extension": ".py",
   "mimetype": "text/x-python",
   "name": "python",
   "nbconvert_exporter": "python",
   "pygments_lexer": "ipython3",
   "version": "3.8.8"
  }
 },
 "nbformat": 4,
 "nbformat_minor": 5
}
